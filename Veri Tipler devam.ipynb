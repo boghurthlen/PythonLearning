{
 "cells": [
  {
   "cell_type": "code",
   "execution_count": 1,
   "id": "a9da3e06",
   "metadata": {},
   "outputs": [
    {
     "data": {
      "text/plain": [
       "'PYTHON'"
      ]
     },
     "execution_count": 1,
     "metadata": {},
     "output_type": "execute_result"
    }
   ],
   "source": [
    "#fonksiyonlar ile kullanim\n",
    "\n",
    "strvar= 'python'\n",
    "\n",
    "strvar.upper()\n",
    "\n",
    "#buyuk harf"
   ]
  },
  {
   "cell_type": "code",
   "execution_count": 2,
   "id": "1e27385b",
   "metadata": {},
   "outputs": [
    {
     "data": {
      "text/plain": [
       "'python'"
      ]
     },
     "execution_count": 2,
     "metadata": {},
     "output_type": "execute_result"
    }
   ],
   "source": [
    "strvar.lower()\n",
    "#kucuk harf"
   ]
  },
  {
   "cell_type": "code",
   "execution_count": 3,
   "id": "ae532613",
   "metadata": {},
   "outputs": [
    {
     "data": {
      "text/plain": [
       "['python']"
      ]
     },
     "execution_count": 3,
     "metadata": {},
     "output_type": "execute_result"
    }
   ],
   "source": [
    "strvar.split()"
   ]
  },
  {
   "cell_type": "code",
   "execution_count": 4,
   "id": "63be6d12",
   "metadata": {},
   "outputs": [
    {
     "data": {
      "text/plain": [
       "['pyth', 'n']"
      ]
     },
     "execution_count": 4,
     "metadata": {},
     "output_type": "execute_result"
    }
   ],
   "source": [
    "strvar.split('o')\n",
    "#o harfinden ayirma"
   ]
  },
  {
   "cell_type": "code",
   "execution_count": 5,
   "id": "9570dd03",
   "metadata": {},
   "outputs": [
    {
     "data": {
      "text/plain": [
       "['pyth', 'n']"
      ]
     },
     "execution_count": 5,
     "metadata": {},
     "output_type": "execute_result"
    }
   ],
   "source": [
    "strvar.split('o', maxsplit=1)"
   ]
  },
  {
   "cell_type": "code",
   "execution_count": 6,
   "id": "671527af",
   "metadata": {},
   "outputs": [
    {
     "name": "stdout",
     "output_type": "stream",
     "text": [
      "<class 'bool'>\n",
      "True\n",
      "False\n",
      "<class 'str'>\n"
     ]
    }
   ],
   "source": [
    "a = True\n",
    "print(type(a))\n",
    "b = False\n",
    "print(a)\n",
    "print(b)\n",
    "c = 'True'\n",
    "print(type(c))\n",
    "#tirnak icinde kullanirsan string oluyor ama biz bool istiyorsak tirnaksiz True ve False yazmaliyiz."
   ]
  },
  {
   "cell_type": "code",
   "execution_count": 7,
   "id": "61d9868c",
   "metadata": {},
   "outputs": [
    {
     "name": "stdout",
     "output_type": "stream",
     "text": [
      "False\n"
     ]
    }
   ],
   "source": [
    "yas1 = 20\n",
    "yas2 = 18\n",
    "\n",
    "print(yas2 > 18)"
   ]
  },
  {
   "cell_type": "code",
   "execution_count": 8,
   "id": "bd70c6ac",
   "metadata": {},
   "outputs": [
    {
     "data": {
      "text/plain": [
       "True"
      ]
     },
     "execution_count": 8,
     "metadata": {},
     "output_type": "execute_result"
    }
   ],
   "source": [
    "yas2 == 18\n",
    "#esit midir sorusunu 2 tane = isaretiyle yaziyoruz"
   ]
  },
  {
   "cell_type": "code",
   "execution_count": 9,
   "id": "c29c83cc",
   "metadata": {},
   "outputs": [
    {
     "data": {
      "text/plain": [
       "False"
      ]
     },
     "execution_count": 9,
     "metadata": {},
     "output_type": "execute_result"
    }
   ],
   "source": [
    "yas2 != 18\n",
    "#esit degil midir sorusunu != isareti ile yaziyoruz"
   ]
  },
  {
   "cell_type": "code",
   "execution_count": 10,
   "id": "5160d3f6",
   "metadata": {},
   "outputs": [
    {
     "data": {
      "text/plain": [
       "False"
      ]
     },
     "execution_count": 10,
     "metadata": {},
     "output_type": "execute_result"
    }
   ],
   "source": [
    "not yas2 == 18\n",
    "#esitsizlik durunlarinda ! isareti uygun olmuyor o nedenle basa not koyarak degil mi sorusu soruluyor"
   ]
  },
  {
   "cell_type": "raw",
   "id": "9a1d0ed2",
   "metadata": {},
   "source": [
    "[a  ,  b  ,  c  ,  d  ,  e  ,  a]   \n",
    "_________________________________\n",
    " 0  |  1  |  2  |  3  |  4  |  5    \n",
    " 0  | -5  | -4  | -3  | -2  | -1   "
   ]
  },
  {
   "cell_type": "code",
   "execution_count": 11,
   "id": "f1cca2e8",
   "metadata": {},
   "outputs": [
    {
     "name": "stdout",
     "output_type": "stream",
     "text": [
      "['a', 'b', 'c', 'd', 'e', 'a']\n"
     ]
    }
   ],
   "source": [
    "liste = ['a', 'b', 'c', 'd', 'e', 'a']\n",
    "print(liste)"
   ]
  },
  {
   "cell_type": "code",
   "execution_count": 12,
   "id": "d947c225",
   "metadata": {},
   "outputs": [
    {
     "data": {
      "text/plain": [
       "['a', 'b', 'c', 'd', 'e', 'a', 'f']"
      ]
     },
     "execution_count": 12,
     "metadata": {},
     "output_type": "execute_result"
    }
   ],
   "source": [
    "liste = liste + ['f']\n",
    "liste\n",
    "#koseli parantez ile ekleme yapabilirsin yalnizca 'f' yazarsak listeye alamaz"
   ]
  },
  {
   "cell_type": "code",
   "execution_count": 13,
   "id": "d41a66c7",
   "metadata": {},
   "outputs": [
    {
     "data": {
      "text/plain": [
       "['a', 'b', 'c', 'd', 'e', 'a', 'f', 'g']"
      ]
     },
     "execution_count": 13,
     "metadata": {},
     "output_type": "execute_result"
    }
   ],
   "source": [
    "liste.append('g')\n",
    "liste\n",
    "#bu sekilde de ekleme yapabiliriz"
   ]
  },
  {
   "cell_type": "code",
   "execution_count": 17,
   "id": "d7f03f10",
   "metadata": {},
   "outputs": [
    {
     "data": {
      "text/plain": [
       "'e'"
      ]
     },
     "execution_count": 17,
     "metadata": {},
     "output_type": "execute_result"
    }
   ],
   "source": [
    "liste.pop()\n",
    "#listenin son elemanini gosteriyor pop, her seferinde bir onceki sayiya geciyor"
   ]
  },
  {
   "cell_type": "code",
   "execution_count": 19,
   "id": "cdeaf0d6",
   "metadata": {},
   "outputs": [
    {
     "data": {
      "text/plain": [
       "[1, 1, 35, 123, 312, 345, 12321, 45435]"
      ]
     },
     "execution_count": 19,
     "metadata": {},
     "output_type": "execute_result"
    }
   ],
   "source": [
    "sayilar = [123,12321,312,45435,35,345,1,1]\n",
    "sayilar.sort()\n",
    "\n",
    "#siralama yapiyor \n",
    "sayilar"
   ]
  },
  {
   "cell_type": "code",
   "execution_count": 20,
   "id": "aaa81efb",
   "metadata": {},
   "outputs": [
    {
     "name": "stdout",
     "output_type": "stream",
     "text": [
      "[45435, 12321, 345, 312, 123, 35, 1, 1]\n"
     ]
    }
   ],
   "source": [
    "sayilar.reverse()\n",
    "print(sayilar)"
   ]
  },
  {
   "cell_type": "code",
   "execution_count": 21,
   "id": "b6d26f23",
   "metadata": {},
   "outputs": [
    {
     "data": {
      "text/plain": [
       "{1, 35, 123, 312, 345, 12321, 45435}"
      ]
     },
     "execution_count": 21,
     "metadata": {},
     "output_type": "execute_result"
    }
   ],
   "source": [
    "set(sayilar)\n",
    "#set verisine cevirdik"
   ]
  },
  {
   "cell_type": "code",
   "execution_count": 22,
   "id": "7411102a",
   "metadata": {},
   "outputs": [
    {
     "name": "stdout",
     "output_type": "stream",
     "text": [
      "['a', 'b', 'c', 'd', 'e', 'a']\n",
      "('a', 'b', 'c', 'd', 'e', 'a')\n"
     ]
    }
   ],
   "source": [
    "#Tupple tipine gectik\n",
    "\n",
    "liste = ['a', 'b', 'c', 'd', 'e', 'a']\n",
    "print(liste)\n",
    "tup = ('a', 'b', 'c', 'd', 'e', 'a')\n",
    "print(tup)"
   ]
  },
  {
   "cell_type": "code",
   "execution_count": 24,
   "id": "e36468de",
   "metadata": {},
   "outputs": [
    {
     "data": {
      "text/plain": [
       "[12312, 'b', 'c', 'd', 'e', 'a']"
      ]
     },
     "execution_count": 24,
     "metadata": {},
     "output_type": "execute_result"
    }
   ],
   "source": [
    "liste[0] = 12312\n",
    "liste\n",
    "#listede bu objeyi degistirebiliyoruz fakat tupleda objeleri degistiremiyoruz\n",
    "\n"
   ]
  },
  {
   "cell_type": "code",
   "execution_count": 25,
   "id": "0680bb06",
   "metadata": {},
   "outputs": [
    {
     "ename": "TypeError",
     "evalue": "'tuple' object does not support item assignment",
     "output_type": "error",
     "traceback": [
      "\u001b[1;31m---------------------------------------------------------------------------\u001b[0m",
      "\u001b[1;31mTypeError\u001b[0m                                 Traceback (most recent call last)",
      "Cell \u001b[1;32mIn[25], line 1\u001b[0m\n\u001b[1;32m----> 1\u001b[0m tup[\u001b[38;5;241m0\u001b[39m] \u001b[38;5;241m=\u001b[39m \u001b[38;5;241m12312\u001b[39m\n\u001b[0;32m      2\u001b[0m tup\n",
      "\u001b[1;31mTypeError\u001b[0m: 'tuple' object does not support item assignment"
     ]
    }
   ],
   "source": [
    "tup[0] = 12312\n",
    "tup"
   ]
  },
  {
   "cell_type": "code",
   "execution_count": 26,
   "id": "25f7bcb1",
   "metadata": {},
   "outputs": [
    {
     "data": {
      "text/plain": [
       "2"
      ]
     },
     "execution_count": 26,
     "metadata": {},
     "output_type": "execute_result"
    }
   ],
   "source": [
    "tup.count('a')"
   ]
  },
  {
   "cell_type": "code",
   "execution_count": 27,
   "id": "c0437f8e",
   "metadata": {},
   "outputs": [
    {
     "data": {
      "text/plain": [
       "0"
      ]
     },
     "execution_count": 27,
     "metadata": {},
     "output_type": "execute_result"
    }
   ],
   "source": [
    "tup.count(True)"
   ]
  },
  {
   "cell_type": "code",
   "execution_count": 29,
   "id": "091d6661",
   "metadata": {},
   "outputs": [
    {
     "ename": "ValueError",
     "evalue": "tuple.index(x): x not in tuple",
     "output_type": "error",
     "traceback": [
      "\u001b[1;31m---------------------------------------------------------------------------\u001b[0m",
      "\u001b[1;31mValueError\u001b[0m                                Traceback (most recent call last)",
      "Cell \u001b[1;32mIn[29], line 1\u001b[0m\n\u001b[1;32m----> 1\u001b[0m tup\u001b[38;5;241m.\u001b[39mindex(\u001b[38;5;28;01mTrue\u001b[39;00m)\n",
      "\u001b[1;31mValueError\u001b[0m: tuple.index(x): x not in tuple"
     ]
    }
   ],
   "source": [
    "tup.index(True) \n",
    "#tup icinde olmayan birseyin count istedigimizde 0 veriyor fakat olmayan bir seyi index edip yerini bildirmesini istedigimizde bunu yapamiyor value error veriyor"
   ]
  },
  {
   "cell_type": "code",
   "execution_count": 30,
   "id": "b0c08a38",
   "metadata": {},
   "outputs": [
    {
     "data": {
      "text/plain": [
       "{'isim': 'Mesut', 'yas': 32, 'lokasyon': 'Berlin'}"
      ]
     },
     "execution_count": 30,
     "metadata": {},
     "output_type": "execute_result"
    }
   ],
   "source": [
    "##Dictionary\n",
    "\n",
    "dict1 = {'isim': 'Mesut', 'yas':32, 'lokasyon': 'Berlin'}\n",
    "dict1"
   ]
  },
  {
   "cell_type": "code",
   "execution_count": 31,
   "id": "245abbc3",
   "metadata": {},
   "outputs": [
    {
     "data": {
      "text/plain": [
       "{'isim': 'Mesut',\n",
       " 'yas': 32,\n",
       " 'dogdugu_sehir': 'Istanbul',\n",
       " 'yasadigi_sehir': 'Berlin'}"
      ]
     },
     "execution_count": 31,
     "metadata": {},
     "output_type": "execute_result"
    }
   ],
   "source": [
    "dict2 = {\n",
    "    'isim': 'Mesut',\n",
    "    'yas': 32,\n",
    "    'dogdugu_sehir': 'Istanbul',\n",
    "    'yasadigi_sehir': 'Berlin' # yasadigi sehir bilgisi\n",
    "    ##'lokasyon': \n",
    "}\n",
    "dict2"
   ]
  },
  {
   "cell_type": "code",
   "execution_count": 32,
   "id": "27378108",
   "metadata": {},
   "outputs": [
    {
     "data": {
      "text/plain": [
       "{'isim': 'Mesut',\n",
       " 'yas': 32,\n",
       " 'lokasyon': {'dogdugu_sehir': 'Istanbul', 'yasadigi_sehir': 'Berlin'}}"
      ]
     },
     "execution_count": 32,
     "metadata": {},
     "output_type": "execute_result"
    }
   ],
   "source": [
    "dict3 = {\n",
    "    'isim': 'Mesut',\n",
    "    'yas': 32,\n",
    "    'lokasyon': {\n",
    "        'dogdugu_sehir': 'Istanbul',\n",
    "        'yasadigi_sehir': 'Berlin'\n",
    "    } \n",
    "}\n",
    "dict3\n",
    "#farkli seviyelerde ekleyebiliyoruz lokasyon icine koydugumuz gibi"
   ]
  },
  {
   "cell_type": "code",
   "execution_count": 33,
   "id": "adb78d2b",
   "metadata": {},
   "outputs": [
    {
     "data": {
      "text/plain": [
       "32"
      ]
     },
     "execution_count": 33,
     "metadata": {},
     "output_type": "execute_result"
    }
   ],
   "source": [
    "dict2['yas']"
   ]
  },
  {
   "cell_type": "code",
   "execution_count": 34,
   "id": "d932f6cf",
   "metadata": {},
   "outputs": [
    {
     "data": {
      "text/plain": [
       "'Berlin'"
      ]
     },
     "execution_count": 34,
     "metadata": {},
     "output_type": "execute_result"
    }
   ],
   "source": [
    "dict3['lokasyon']['yasadigi_sehir']\n",
    "#ic ice gecen dictionarylerde cift parantez ile alt konuma ulasabiliriz\n"
   ]
  },
  {
   "cell_type": "code",
   "execution_count": 35,
   "id": "6c13e04e",
   "metadata": {},
   "outputs": [
    {
     "data": {
      "text/plain": [
       "'Berlin'"
      ]
     },
     "execution_count": 35,
     "metadata": {},
     "output_type": "execute_result"
    }
   ],
   "source": [
    "'Berlin'\n",
    "dict3.get('lokasyon').get('yasadigi_sehir')"
   ]
  },
  {
   "cell_type": "code",
   "execution_count": 36,
   "id": "d81fe60a",
   "metadata": {},
   "outputs": [
    {
     "data": {
      "text/plain": [
       "dict_keys(['isim', 'yas', 'dogdugu_sehir', 'yasadigi_sehir'])"
      ]
     },
     "execution_count": 36,
     "metadata": {},
     "output_type": "execute_result"
    }
   ],
   "source": [
    "dict2.keys()\n",
    "#ilk yazdiklarimiza anahtar deniyor, tablonun ilk sutunu gibi dusunebilliriz"
   ]
  },
  {
   "cell_type": "code",
   "execution_count": 37,
   "id": "3ede184c",
   "metadata": {},
   "outputs": [
    {
     "data": {
      "text/plain": [
       "dict_values(['Mesut', 32, 'Istanbul', 'Berlin'])"
      ]
     },
     "execution_count": 37,
     "metadata": {},
     "output_type": "execute_result"
    }
   ],
   "source": [
    "dict2.values()\n",
    "#digerleri de degerler"
   ]
  },
  {
   "cell_type": "code",
   "execution_count": 38,
   "id": "538cc245",
   "metadata": {},
   "outputs": [
    {
     "data": {
      "text/plain": [
       "dict_items([('isim', 'Mesut'), ('yas', 32), ('dogdugu_sehir', 'Istanbul'), ('yasadigi_sehir', 'Berlin')])"
      ]
     },
     "execution_count": 38,
     "metadata": {},
     "output_type": "execute_result"
    }
   ],
   "source": [
    "dict2.items()\n",
    "#her bir ikiliye de item deniyor"
   ]
  },
  {
   "cell_type": "code",
   "execution_count": null,
   "id": "0f565e3e",
   "metadata": {},
   "outputs": [],
   "source": []
  }
 ],
 "metadata": {
  "kernelspec": {
   "display_name": "Python 3 (ipykernel)",
   "language": "python",
   "name": "python3"
  },
  "language_info": {
   "codemirror_mode": {
    "name": "ipython",
    "version": 3
   },
   "file_extension": ".py",
   "mimetype": "text/x-python",
   "name": "python",
   "nbconvert_exporter": "python",
   "pygments_lexer": "ipython3",
   "version": "3.11.5"
  }
 },
 "nbformat": 4,
 "nbformat_minor": 5
}
