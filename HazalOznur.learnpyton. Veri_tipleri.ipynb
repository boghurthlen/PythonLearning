{
 "cells": [
  {
   "cell_type": "markdown",
   "id": "234d524b",
   "metadata": {
    "tags": []
   },
   "source": [
    "print('Hello world')\n"
   ]
  },
  {
   "cell_type": "code",
   "execution_count": 8,
   "id": "a5dcd068-f5a7-47c8-b746-a14bec77b387",
   "metadata": {
    "tags": []
   },
   "outputs": [
    {
     "name": "stdout",
     "output_type": "stream",
     "text": [
      "Hello \n",
      "world\n"
     ]
    }
   ],
   "source": [
    "print('Hello \\nworld')"
   ]
  },
  {
   "cell_type": "code",
   "execution_count": 7,
   "id": "b97a6793-da37-475f-a326-0e1fffd289d2",
   "metadata": {
    "tags": []
   },
   "outputs": [
    {
     "name": "stdout",
     "output_type": "stream",
     "text": [
      "Hello \t world\n"
     ]
    }
   ],
   "source": [
    "print(\"Hello \\t world\")"
   ]
  },
  {
   "cell_type": "markdown",
   "id": "bb636c08-7f2a-42ca-8eee-5928d38aaaf5",
   "metadata": {},
   "source": [
    "Not:jdhjsd"
   ]
  },
  {
   "cell_type": "raw",
   "id": "fcc319a9",
   "metadata": {
    "tags": []
   },
   "source": [
    "#Degiskenler- Variables\n",
    "Basinda sayi olmaz\n",
    "bosluk icermez\n",
    "Pytonda kullanilan ozel karaklerler kullanilamaz\n",
    "Print gibi rezerve isimler kullanilmaz\n"
   ]
  },
  {
   "cell_type": "code",
   "execution_count": 1,
   "id": "652ebe44",
   "metadata": {},
   "outputs": [
    {
     "name": "stdout",
     "output_type": "stream",
     "text": [
      "12\n"
     ]
    }
   ],
   "source": [
    "sayi1= 12\n",
    "print(sayi1)"
   ]
  },
  {
   "cell_type": "code",
   "execution_count": 2,
   "id": "92e0dd16",
   "metadata": {},
   "outputs": [
    {
     "name": "stdout",
     "output_type": "stream",
     "text": [
      "13\n"
     ]
    }
   ],
   "source": [
    "sayi1= sayi1 +1\n",
    "print(sayi1)"
   ]
  },
  {
   "cell_type": "raw",
   "id": "680dd7fc",
   "metadata": {},
   "source": [
    "Veri Tipleri\n",
    "\" #################################################################\\n\",\n",
    "    \" ###    Tip     ###  Kisaltma  ###             Örnek           ###\\n\",\n",
    "    \" ### --------------------------------------------------------- ###\\n\",\n",
    "    \" ###  Integer   ###    int     ###             3, 10           ###\\n\",\n",
    "    \" ###   Float    ###   float    ###            1.5, 7.0         ###\\n\",\n",
    "    \" ###   String   ###    str     ###           \\\"S3m\\\", '2'        ###\\n\",\n",
    "    \" ###  Boolean   ###    bool    ###          True, False        ###\\n\",\n",
    "    \" ###    List    ###    list    ###      [1,2,True, 'a', 1]     ###\\n\",\n",
    "    \" ###    Set     ###    set     ###         {1,2,True, 'a'}     ###\\n\",\n",
    "    \" ### Dictionary ###    dict    ### {'isim': 'Mesut, 'yas': 32} ###\\n\",\n",
    "    \" ###    Tuple   ###    tup     ###         (1, 2, True)        ###\\n\",\n",
    "    \" #################################################################\"\n",
    "   ]"
   ]
  },
  {
   "cell_type": "code",
   "execution_count": 2,
   "id": "1254a7c0",
   "metadata": {},
   "outputs": [
    {
     "name": "stdout",
     "output_type": "stream",
     "text": [
      "1\n"
     ]
    }
   ],
   "source": [
    "# Variables representing the number of candies collected by alice, bob, and carol\n",
    "alice_candies = 121\n",
    "bob_candies = 77\n",
    "carol_candies = 109\n",
    "\n",
    "# Your code goes here! Replace the right-hand side of this assignment with an expression\n",
    "# involving alice_candies, bob_candies, and carol_candies\n",
    "total_candies= alice_candies + bob_candies + carol_candies\n",
    "\n",
    "to_smash = total_candies % 3\n",
    "print(to_smash)"
   ]
  },
  {
   "cell_type": "code",
   "execution_count": 3,
   "id": "2e7b6835",
   "metadata": {},
   "outputs": [
    {
     "data": {
      "text/plain": [
       "int"
      ]
     },
     "execution_count": 3,
     "metadata": {},
     "output_type": "execute_result"
    }
   ],
   "source": [
    "type(3)"
   ]
  },
  {
   "cell_type": "code",
   "execution_count": 4,
   "id": "dd790f70",
   "metadata": {},
   "outputs": [
    {
     "data": {
      "text/plain": [
       "float"
      ]
     },
     "execution_count": 4,
     "metadata": {},
     "output_type": "execute_result"
    }
   ],
   "source": [
    "type(3.5)"
   ]
  },
  {
   "cell_type": "code",
   "execution_count": 6,
   "id": "ce441d9b",
   "metadata": {},
   "outputs": [
    {
     "data": {
      "text/plain": [
       "str"
      ]
     },
     "execution_count": 6,
     "metadata": {},
     "output_type": "execute_result"
    }
   ],
   "source": [
    "type(\"hazal\")"
   ]
  },
  {
   "cell_type": "code",
   "execution_count": 10,
   "id": "f7882fd4",
   "metadata": {},
   "outputs": [
    {
     "name": "stdout",
     "output_type": "stream",
     "text": [
      "python\n"
     ]
    }
   ],
   "source": [
    "strvar= \"python\"\n",
    "print(strvar)"
   ]
  },
  {
   "cell_type": "code",
   "execution_count": 11,
   "id": "2c587448",
   "metadata": {},
   "outputs": [
    {
     "data": {
      "text/plain": [
       "'h'"
      ]
     },
     "execution_count": 11,
     "metadata": {},
     "output_type": "execute_result"
    }
   ],
   "source": [
    "strvar[3]"
   ]
  },
  {
   "cell_type": "code",
   "execution_count": 12,
   "id": "0985f940",
   "metadata": {},
   "outputs": [
    {
     "data": {
      "text/plain": [
       "'thon'"
      ]
     },
     "execution_count": 12,
     "metadata": {},
     "output_type": "execute_result"
    }
   ],
   "source": [
    "strvar[2:]"
   ]
  },
  {
   "cell_type": "code",
   "execution_count": 14,
   "id": "a7c3c7a7",
   "metadata": {},
   "outputs": [
    {
     "data": {
      "text/plain": [
       "'python'"
      ]
     },
     "execution_count": 14,
     "metadata": {},
     "output_type": "execute_result"
    }
   ],
   "source": [
    "strvar[:]"
   ]
  },
  {
   "cell_type": "code",
   "execution_count": 15,
   "id": "b6ceba63",
   "metadata": {},
   "outputs": [
    {
     "data": {
      "text/plain": [
       "'yh'"
      ]
     },
     "execution_count": 15,
     "metadata": {},
     "output_type": "execute_result"
    }
   ],
   "source": [
    "strvar[1:5:2]\n",
    "#1 den 5e kadar 2 atlayarak git"
   ]
  },
  {
   "cell_type": "code",
   "execution_count": 35,
   "id": "303d746f",
   "metadata": {},
   "outputs": [],
   "source": [
    "strvar1 = 'data'"
   ]
  },
  {
   "cell_type": "code",
   "execution_count": 47,
   "id": "8ae09d5f",
   "metadata": {},
   "outputs": [
    {
     "data": {
      "text/plain": [
       "15"
      ]
     },
     "execution_count": 47,
     "metadata": {},
     "output_type": "execute_result"
    }
   ],
   "source": [
    "len(strvar1\n",
    "   )"
   ]
  },
  {
   "cell_type": "code",
   "execution_count": 46,
   "id": "f3d7d6cc",
   "metadata": {},
   "outputs": [
    {
     "data": {
      "text/plain": [
       "'dataogren ogren'"
      ]
     },
     "execution_count": 46,
     "metadata": {},
     "output_type": "execute_result"
    }
   ],
   "source": [
    "strvar1"
   ]
  },
  {
   "cell_type": "code",
   "execution_count": 48,
   "id": "30a56d07",
   "metadata": {},
   "outputs": [
    {
     "ename": "NameError",
     "evalue": "name 'tup' is not defined",
     "output_type": "error",
     "traceback": [
      "\u001b[1;31m---------------------------------------------------------------------------\u001b[0m",
      "\u001b[1;31mNameError\u001b[0m                                 Traceback (most recent call last)",
      "Cell \u001b[1;32mIn[48], line 1\u001b[0m\n\u001b[1;32m----> 1\u001b[0m tup\u001b[38;5;241m.\u001b[39mcount(\u001b[38;5;124m'\u001b[39m\u001b[38;5;124ma\u001b[39m\u001b[38;5;124m'\u001b[39m)\n",
      "\u001b[1;31mNameError\u001b[0m: name 'tup' is not defined"
     ]
    }
   ],
   "source": []
  },
  {
   "cell_type": "code",
   "execution_count": null,
   "id": "2c05438c",
   "metadata": {},
   "outputs": [],
   "source": []
  }
 ],
 "metadata": {
  "kernelspec": {
   "display_name": "Python 3 (ipykernel)",
   "language": "python",
   "name": "python3"
  },
  "language_info": {
   "codemirror_mode": {
    "name": "ipython",
    "version": 3
   },
   "file_extension": ".py",
   "mimetype": "text/x-python",
   "name": "python",
   "nbconvert_exporter": "python",
   "pygments_lexer": "ipython3",
   "version": "3.11.5"
  }
 },
 "nbformat": 4,
 "nbformat_minor": 5
}
